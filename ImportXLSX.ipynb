{
 "cells": [
  {
   "cell_type": "code",
   "execution_count": 29,
   "metadata": {},
   "outputs": [
    {
     "data": {
      "text/plain": [
       "Index(['caseNumber', 'catchingDate', 'catchingLocation', 'photo', 'mainColor',\n",
       "       'gender', 'surgeryDate', 'releaseDate', 'age', 'breed', 'dogWeight',\n",
       "       'BodyCondition', 'agression', 'SkinCondition', 'temperature', 'ARV',\n",
       "       'procedure', 'earNotched', 'observations', 'day1date',\n",
       "       'day1observations', 'day2date', 'day2observations', 'day3date',\n",
       "       'day3observations', 'day4date', 'day4', 'foodintake', 'waterintake'],\n",
       "      dtype='object')"
      ]
     },
     "execution_count": 29,
     "metadata": {},
     "output_type": "execute_result"
    }
   ],
   "source": [
    "import pandas as pd\n",
    "\n",
    "path = \"C:\\\\Users\\\\dhruv lohar\\\\Downloads\\\\dogData.xlsx\"\n",
    "\n",
    "df = pd.read_excel(path, sheet_name=\"Malad Sep 23\")\n",
    "\n",
    "# df[\"Dog Catching Date\"] = pd.to_datetime(df[\"Dog Catching Date\"])\n",
    "\n",
    "df.dropna(axis=1, how='all', inplace=True)\n",
    "df.columns = df.columns.str.lower()\n",
    "df.rename(columns={\n",
    "    \"sr. no \": \"caseNumber\",\n",
    "    \"dog catching date\": \"catchingDate\",\n",
    "    \"address\": \"catchingLocation\",\n",
    "    \"colour/description  \": \"mainColor\",\n",
    "    \"surgery date \": \"surgeryDate\",\n",
    "    \"release date \": \"releaseDate\",\n",
    "    \"dog age\": \"age\",\n",
    "    \"dog breed\": \"breed\",\n",
    "    \"weight\": \"dogWeight\",\n",
    "    \"skin condition\": \"SkinCondition\",\n",
    "    \"body condition\": \"BodyCondition\",\n",
    "    \"ear notched\": \"earNotched\",\n",
    "    \"arv\": \"ARV\"\n",
    "}, inplace=True)\n",
    "df.columns = df.columns.str.replace(\" \", \"\")\n",
    "\n",
    "df.columns"
   ]
  },
  {
   "cell_type": "code",
   "execution_count": 38,
   "metadata": {},
   "outputs": [
    {
     "data": {
      "text/html": [
       "<div>\n",
       "<style scoped>\n",
       "    .dataframe tbody tr th:only-of-type {\n",
       "        vertical-align: middle;\n",
       "    }\n",
       "\n",
       "    .dataframe tbody tr th {\n",
       "        vertical-align: top;\n",
       "    }\n",
       "\n",
       "    .dataframe thead th {\n",
       "        text-align: right;\n",
       "    }\n",
       "</style>\n",
       "<table border=\"1\" class=\"dataframe\">\n",
       "  <thead>\n",
       "    <tr style=\"text-align: right;\">\n",
       "      <th></th>\n",
       "      <th>dogWeight</th>\n",
       "      <th>temperature</th>\n",
       "      <th>SkinCondition</th>\n",
       "      <th>BodyCondition</th>\n",
       "      <th>surgeryDate</th>\n",
       "      <th>procedure</th>\n",
       "      <th>earNotched</th>\n",
       "      <th>ARV</th>\n",
       "    </tr>\n",
       "  </thead>\n",
       "  <tbody>\n",
       "    <tr>\n",
       "      <th>0</th>\n",
       "      <td>12.5</td>\n",
       "      <td>100.0</td>\n",
       "      <td>Normal</td>\n",
       "      <td>normal</td>\n",
       "      <td>2023-10-03</td>\n",
       "      <td>OVARIES REMOVED</td>\n",
       "      <td>Yes</td>\n",
       "      <td>Given</td>\n",
       "    </tr>\n",
       "  </tbody>\n",
       "</table>\n",
       "</div>"
      ],
      "text/plain": [
       "   dogWeight  temperature SkinCondition BodyCondition surgeryDate  \\\n",
       "0       12.5        100.0       Normal         normal  2023-10-03   \n",
       "\n",
       "         procedure earNotched     ARV  \n",
       "0  OVARIES REMOVED       Yes   Given   "
      ]
     },
     "execution_count": 38,
     "metadata": {},
     "output_type": "execute_result"
    }
   ],
   "source": [
    "dogDF = df[[\"caseNumber\", \"breed\", \"mainColor\", \"gender\", \"releaseDate\", \"age\", \"agression\"]].copy()\n",
    "\n",
    "catcherDF = df[[\"catchingLocation\", \"catchingDate\"]].copy()\n",
    "\n",
    "vetDF = df[[\"dogWeight\", \"temperature\", \"SkinCondition\", \"BodyCondition\", \"surgeryDate\", \"procedure\", \"earNotched\", \"ARV\"]].copy()\n",
    "\n",
    "caretakerDF = df[[\"day1date\", \"day2date\", \"day3date\", \"day4date\"]].copy()\n",
    "\n",
    "# dogDF.head(1)\n",
    "# catcherDF.head(1)\n",
    "vetDF.head(1)\n",
    "# caretakerDF.head(1)"
   ]
  },
  {
   "cell_type": "code",
   "execution_count": 74,
   "metadata": {},
   "outputs": [],
   "source": [
    "import pymongo\n",
    "\n",
    "client = pymongo.MongoClient(\"mongodb://localhost:27017/\")  # Replace with your MongoDB URI\n",
    "db = client[\"DogNGOApp\"]"
   ]
  },
  {
   "cell_type": "code",
   "execution_count": 79,
   "metadata": {},
   "outputs": [],
   "source": [
    "catcher_coll = db[\"catchers\"]\n",
    "\n",
    "catcherDF.dropna(inplace=True)\n",
    "catcherDF['catchingDate'] = pd.to_datetime(catcherDF['catchingDate'], errors='coerce')\n",
    "\n",
    "catcherData = catcherDF.to_dict(orient=\"records\")"
   ]
  },
  {
   "cell_type": "code",
   "execution_count": 82,
   "metadata": {},
   "outputs": [],
   "source": [
    "vet_coll = db[\"doctors\"]\n",
    "\n",
    "vetDF.dropna(inplace=True)\n",
    "vetDF['surgeryDate'] = pd.to_datetime(vetDF['surgeryDate'], errors='coerce')\n",
    "\n",
    "vetData = vetDF.to_dict(orient=\"records\")"
   ]
  },
  {
   "cell_type": "code",
   "execution_count": 81,
   "metadata": {},
   "outputs": [],
   "source": [
    "\n",
    "dogs_collection = db[\"dogs\"]\n",
    "\n",
    "dogDF.dropna(inplace=True)\n",
    "dogDF['releaseDate'] = pd.to_datetime(dogDF['releaseDate'], errors='coerce')\n",
    "dogDF.loc[dogDF['releaseDate'] == 'TBD', 'releaseDate'] = pd.NaT\n",
    "\n",
    "dogData = dogDF.to_dict(orient=\"records\")"
   ]
  },
  {
   "cell_type": "code",
   "execution_count": 95,
   "metadata": {},
   "outputs": [
    {
     "data": {
      "text/plain": [
       "InsertManyResult([ObjectId('658343f70f74f81ffe8a1964'), ObjectId('658343f70f74f81ffe8a1965'), ObjectId('658343f70f74f81ffe8a1966'), ObjectId('658343f70f74f81ffe8a1967'), ObjectId('658343f70f74f81ffe8a1968'), ObjectId('658343f70f74f81ffe8a1969'), ObjectId('658343f70f74f81ffe8a196a'), ObjectId('658343f70f74f81ffe8a196b'), ObjectId('658343f70f74f81ffe8a196c'), ObjectId('658343f70f74f81ffe8a196d'), ObjectId('658343f70f74f81ffe8a196e'), ObjectId('658343f70f74f81ffe8a196f'), ObjectId('658343f70f74f81ffe8a1970'), ObjectId('658343f70f74f81ffe8a1971'), ObjectId('658343f70f74f81ffe8a1972'), ObjectId('658343f70f74f81ffe8a1973'), ObjectId('658343f70f74f81ffe8a1974'), ObjectId('658343f70f74f81ffe8a1975'), ObjectId('658343f70f74f81ffe8a1976'), ObjectId('658343f70f74f81ffe8a1977'), ObjectId('658343f70f74f81ffe8a1978'), ObjectId('658343f70f74f81ffe8a1979'), ObjectId('658343f70f74f81ffe8a197a'), ObjectId('658343f70f74f81ffe8a197b'), ObjectId('658343f70f74f81ffe8a197c'), ObjectId('658343f70f74f81ffe8a197d'), ObjectId('658343f70f74f81ffe8a197e'), ObjectId('658343f70f74f81ffe8a197f'), ObjectId('658343f70f74f81ffe8a1980'), ObjectId('658343f70f74f81ffe8a1981'), ObjectId('658343f70f74f81ffe8a1982'), ObjectId('658343f70f74f81ffe8a1983'), ObjectId('658343f70f74f81ffe8a1984'), ObjectId('658343f70f74f81ffe8a1985'), ObjectId('658343f70f74f81ffe8a1986'), ObjectId('658343f70f74f81ffe8a1987'), ObjectId('658343f70f74f81ffe8a1988'), ObjectId('658343f70f74f81ffe8a1989'), ObjectId('658343f70f74f81ffe8a198a'), ObjectId('658343f70f74f81ffe8a198b'), ObjectId('658343f70f74f81ffe8a198c'), ObjectId('658343f70f74f81ffe8a198d'), ObjectId('658343f70f74f81ffe8a198e'), ObjectId('658343f70f74f81ffe8a198f'), ObjectId('658343f70f74f81ffe8a1990'), ObjectId('658343f70f74f81ffe8a1991'), ObjectId('658343f70f74f81ffe8a1992'), ObjectId('658343f70f74f81ffe8a1993'), ObjectId('658343f70f74f81ffe8a1994'), ObjectId('658343f70f74f81ffe8a1995'), ObjectId('658343f70f74f81ffe8a1996'), ObjectId('658343f70f74f81ffe8a1997'), ObjectId('658343f70f74f81ffe8a1998'), ObjectId('658343f70f74f81ffe8a1999'), ObjectId('658343f70f74f81ffe8a199a'), ObjectId('658343f70f74f81ffe8a199b'), ObjectId('658343f70f74f81ffe8a199c'), ObjectId('658343f70f74f81ffe8a199d'), ObjectId('658343f70f74f81ffe8a199e'), ObjectId('658343f70f74f81ffe8a199f'), ObjectId('658343f70f74f81ffe8a19a0'), ObjectId('658343f70f74f81ffe8a19a1'), ObjectId('658343f70f74f81ffe8a19a2'), ObjectId('658343f70f74f81ffe8a19a3'), ObjectId('658343f70f74f81ffe8a19a4'), ObjectId('658343f70f74f81ffe8a19a5'), ObjectId('658343f70f74f81ffe8a19a6'), ObjectId('658343f70f74f81ffe8a19a7'), ObjectId('658343f70f74f81ffe8a19a8'), ObjectId('658343f70f74f81ffe8a19a9'), ObjectId('658343f70f74f81ffe8a19aa'), ObjectId('658343f70f74f81ffe8a19ab'), ObjectId('658343f70f74f81ffe8a19ac'), ObjectId('658343f70f74f81ffe8a19ad'), ObjectId('658343f70f74f81ffe8a19ae'), ObjectId('658343f70f74f81ffe8a19af'), ObjectId('658343f70f74f81ffe8a19b0'), ObjectId('658343f70f74f81ffe8a19b1'), ObjectId('658343f70f74f81ffe8a19b2'), ObjectId('658343f70f74f81ffe8a19b3'), ObjectId('658343f70f74f81ffe8a19b4'), ObjectId('658343f70f74f81ffe8a19b5'), ObjectId('658343f70f74f81ffe8a19b6'), ObjectId('658343f70f74f81ffe8a19b7'), ObjectId('658343f70f74f81ffe8a19b8'), ObjectId('658343f70f74f81ffe8a19b9'), ObjectId('658343f70f74f81ffe8a19ba'), ObjectId('658343f70f74f81ffe8a19bb'), ObjectId('658343f70f74f81ffe8a19bc'), ObjectId('658343f70f74f81ffe8a19bd'), ObjectId('658343f70f74f81ffe8a19be'), ObjectId('658343f70f74f81ffe8a19bf'), ObjectId('658343f70f74f81ffe8a19c0'), ObjectId('658343f70f74f81ffe8a19c1'), ObjectId('658343f70f74f81ffe8a19c2'), ObjectId('658343f70f74f81ffe8a19c3'), ObjectId('658343f70f74f81ffe8a19c4'), ObjectId('658343f70f74f81ffe8a19c5'), ObjectId('658343f70f74f81ffe8a19c6'), ObjectId('658343f70f74f81ffe8a19c7'), ObjectId('658343f70f74f81ffe8a19c8'), ObjectId('658343f70f74f81ffe8a19c9'), ObjectId('658343f70f74f81ffe8a19ca'), ObjectId('658343f70f74f81ffe8a19cb'), ObjectId('658343f70f74f81ffe8a19cc'), ObjectId('658343f70f74f81ffe8a19cd'), ObjectId('658343f70f74f81ffe8a19ce'), ObjectId('658343f70f74f81ffe8a19cf'), ObjectId('658343f70f74f81ffe8a19d0'), ObjectId('658343f70f74f81ffe8a19d1'), ObjectId('658343f70f74f81ffe8a19d2'), ObjectId('658343f70f74f81ffe8a19d3'), ObjectId('658343f70f74f81ffe8a19d4'), ObjectId('658343f70f74f81ffe8a19d5'), ObjectId('658343f70f74f81ffe8a19d6'), ObjectId('658343f70f74f81ffe8a19d7'), ObjectId('658343f70f74f81ffe8a19d8'), ObjectId('658343f70f74f81ffe8a19d9'), ObjectId('658343f70f74f81ffe8a19da'), ObjectId('658343f70f74f81ffe8a19db'), ObjectId('658343f70f74f81ffe8a19dc'), ObjectId('658343f70f74f81ffe8a19dd'), ObjectId('658343f70f74f81ffe8a19de'), ObjectId('658343f70f74f81ffe8a19df'), ObjectId('658343f70f74f81ffe8a19e0'), ObjectId('658343f70f74f81ffe8a19e1'), ObjectId('658343f70f74f81ffe8a19e2'), ObjectId('658343f70f74f81ffe8a19e3'), ObjectId('658343f70f74f81ffe8a19e4'), ObjectId('658343f70f74f81ffe8a19e5'), ObjectId('658343f70f74f81ffe8a19e6'), ObjectId('658343f70f74f81ffe8a19e7'), ObjectId('658343f70f74f81ffe8a19e8'), ObjectId('658343f70f74f81ffe8a19e9'), ObjectId('658343f70f74f81ffe8a19ea'), ObjectId('658343f70f74f81ffe8a19eb'), ObjectId('658343f70f74f81ffe8a19ec'), ObjectId('658343f70f74f81ffe8a19ed'), ObjectId('658343f70f74f81ffe8a19ee'), ObjectId('658343f70f74f81ffe8a19ef'), ObjectId('658343f70f74f81ffe8a19f0'), ObjectId('658343f70f74f81ffe8a19f1'), ObjectId('658343f70f74f81ffe8a19f2'), ObjectId('658343f70f74f81ffe8a19f3'), ObjectId('658343f70f74f81ffe8a19f4'), ObjectId('658343f70f74f81ffe8a19f5'), ObjectId('658343f70f74f81ffe8a19f6'), ObjectId('658343f70f74f81ffe8a19f7'), ObjectId('658343f70f74f81ffe8a19f8'), ObjectId('658343f70f74f81ffe8a19f9'), ObjectId('658343f70f74f81ffe8a19fa'), ObjectId('658343f70f74f81ffe8a19fb'), ObjectId('658343f70f74f81ffe8a19fc'), ObjectId('658343f70f74f81ffe8a19fd'), ObjectId('658343f70f74f81ffe8a19fe'), ObjectId('658343f70f74f81ffe8a19ff'), ObjectId('658343f70f74f81ffe8a1a00'), ObjectId('658343f70f74f81ffe8a1a01'), ObjectId('658343f70f74f81ffe8a1a02'), ObjectId('658343f70f74f81ffe8a1a03'), ObjectId('658343f70f74f81ffe8a1a04'), ObjectId('658343f70f74f81ffe8a1a05'), ObjectId('658343f70f74f81ffe8a1a06'), ObjectId('658343f70f74f81ffe8a1a07'), ObjectId('658343f70f74f81ffe8a1a08'), ObjectId('658343f70f74f81ffe8a1a09'), ObjectId('658343f70f74f81ffe8a1a0a'), ObjectId('658343f70f74f81ffe8a1a0b'), ObjectId('658343f70f74f81ffe8a1a0c'), ObjectId('658343f70f74f81ffe8a1a0d'), ObjectId('658343f70f74f81ffe8a1a0e'), ObjectId('658343f70f74f81ffe8a1a0f'), ObjectId('658343f70f74f81ffe8a1a10'), ObjectId('658343f70f74f81ffe8a1a11'), ObjectId('658343f70f74f81ffe8a1a12'), ObjectId('658343f70f74f81ffe8a1a13'), ObjectId('658343f70f74f81ffe8a1a14'), ObjectId('658343f70f74f81ffe8a1a15'), ObjectId('658343f70f74f81ffe8a1a16'), ObjectId('658343f70f74f81ffe8a1a17'), ObjectId('658343f70f74f81ffe8a1a18'), ObjectId('658343f70f74f81ffe8a1a19'), ObjectId('658343f70f74f81ffe8a1a1a'), ObjectId('658343f70f74f81ffe8a1a1b'), ObjectId('658343f70f74f81ffe8a1a1c'), ObjectId('658343f70f74f81ffe8a1a1d'), ObjectId('658343f70f74f81ffe8a1a1e'), ObjectId('658343f70f74f81ffe8a1a1f'), ObjectId('658343f70f74f81ffe8a1a20'), ObjectId('658343f70f74f81ffe8a1a21'), ObjectId('658343f70f74f81ffe8a1a22'), ObjectId('658343f70f74f81ffe8a1a23'), ObjectId('658343f70f74f81ffe8a1a24'), ObjectId('658343f70f74f81ffe8a1a25'), ObjectId('658343f70f74f81ffe8a1a26'), ObjectId('658343f70f74f81ffe8a1a27'), ObjectId('658343f70f74f81ffe8a1a28'), ObjectId('658343f70f74f81ffe8a1a29'), ObjectId('658343f70f74f81ffe8a1a2a'), ObjectId('658343f70f74f81ffe8a1a2b'), ObjectId('658343f70f74f81ffe8a1a2c'), ObjectId('658343f70f74f81ffe8a1a2d'), ObjectId('658343f70f74f81ffe8a1a2e'), ObjectId('658343f70f74f81ffe8a1a2f'), ObjectId('658343f70f74f81ffe8a1a30'), ObjectId('658343f70f74f81ffe8a1a31'), ObjectId('658343f70f74f81ffe8a1a32'), ObjectId('658343f70f74f81ffe8a1a33'), ObjectId('658343f70f74f81ffe8a1a34'), ObjectId('658343f70f74f81ffe8a1a35'), ObjectId('658343f70f74f81ffe8a1a36'), ObjectId('658343f70f74f81ffe8a1a37'), ObjectId('658343f70f74f81ffe8a1a38'), ObjectId('658343f70f74f81ffe8a1a39'), ObjectId('658343f70f74f81ffe8a1a3a'), ObjectId('658343f70f74f81ffe8a1a3b'), ObjectId('658343f70f74f81ffe8a1a3c'), ObjectId('658343f70f74f81ffe8a1a3d'), ObjectId('658343f70f74f81ffe8a1a3e'), ObjectId('658343f70f74f81ffe8a1a3f'), ObjectId('658343f70f74f81ffe8a1a40'), ObjectId('658343f70f74f81ffe8a1a41'), ObjectId('658343f70f74f81ffe8a1a42'), ObjectId('658343f70f74f81ffe8a1a43'), ObjectId('658343f70f74f81ffe8a1a44'), ObjectId('658343f70f74f81ffe8a1a45'), ObjectId('658343f70f74f81ffe8a1a46'), ObjectId('658343f70f74f81ffe8a1a47'), ObjectId('658343f70f74f81ffe8a1a48'), ObjectId('658343f70f74f81ffe8a1a49'), ObjectId('658343f70f74f81ffe8a1a4a'), ObjectId('658343f70f74f81ffe8a1a4b'), ObjectId('658343f70f74f81ffe8a1a4c'), ObjectId('658343f70f74f81ffe8a1a4d'), ObjectId('658343f70f74f81ffe8a1a4e'), ObjectId('658343f70f74f81ffe8a1a4f'), ObjectId('658343f70f74f81ffe8a1a50'), ObjectId('658343f70f74f81ffe8a1a51'), ObjectId('658343f70f74f81ffe8a1a52'), ObjectId('658343f70f74f81ffe8a1a53'), ObjectId('658343f70f74f81ffe8a1a54'), ObjectId('658343f70f74f81ffe8a1a55'), ObjectId('658343f70f74f81ffe8a1a56'), ObjectId('658343f70f74f81ffe8a1a57'), ObjectId('658343f70f74f81ffe8a1a58'), ObjectId('658343f70f74f81ffe8a1a59'), ObjectId('658343f70f74f81ffe8a1a5a'), ObjectId('658343f70f74f81ffe8a1a5b'), ObjectId('658343f70f74f81ffe8a1a5c'), ObjectId('658343f70f74f81ffe8a1a5d'), ObjectId('658343f70f74f81ffe8a1a5e'), ObjectId('658343f70f74f81ffe8a1a5f'), ObjectId('658343f70f74f81ffe8a1a60'), ObjectId('658343f70f74f81ffe8a1a61'), ObjectId('658343f70f74f81ffe8a1a62'), ObjectId('658343f70f74f81ffe8a1a63'), ObjectId('658343f70f74f81ffe8a1a64'), ObjectId('658343f70f74f81ffe8a1a65'), ObjectId('658343f70f74f81ffe8a1a66'), ObjectId('658343f70f74f81ffe8a1a67'), ObjectId('658343f70f74f81ffe8a1a68'), ObjectId('658343f70f74f81ffe8a1a69'), ObjectId('658343f70f74f81ffe8a1a6a'), ObjectId('658343f70f74f81ffe8a1a6b'), ObjectId('658343f70f74f81ffe8a1a6c'), ObjectId('658343f70f74f81ffe8a1a6d'), ObjectId('658343f70f74f81ffe8a1a6e'), ObjectId('658343f70f74f81ffe8a1a6f'), ObjectId('658343f70f74f81ffe8a1a70'), ObjectId('658343f70f74f81ffe8a1a71'), ObjectId('658343f70f74f81ffe8a1a72'), ObjectId('658343f70f74f81ffe8a1a73'), ObjectId('658343f70f74f81ffe8a1a74'), ObjectId('658343f70f74f81ffe8a1a75'), ObjectId('658343f70f74f81ffe8a1a76'), ObjectId('658343f70f74f81ffe8a1a77'), ObjectId('658343f70f74f81ffe8a1a78'), ObjectId('658343f70f74f81ffe8a1a79'), ObjectId('658343f70f74f81ffe8a1a7a'), ObjectId('658343f70f74f81ffe8a1a7b'), ObjectId('658343f70f74f81ffe8a1a7c'), ObjectId('658343f70f74f81ffe8a1a7d'), ObjectId('658343f70f74f81ffe8a1a7e'), ObjectId('658343f70f74f81ffe8a1a7f'), ObjectId('658343f70f74f81ffe8a1a80'), ObjectId('658343f70f74f81ffe8a1a81'), ObjectId('658343f70f74f81ffe8a1a82'), ObjectId('658343f70f74f81ffe8a1a83'), ObjectId('658343f70f74f81ffe8a1a84'), ObjectId('658343f70f74f81ffe8a1a85'), ObjectId('658343f70f74f81ffe8a1a86'), ObjectId('658343f70f74f81ffe8a1a87'), ObjectId('658343f70f74f81ffe8a1a88'), ObjectId('658343f70f74f81ffe8a1a89'), ObjectId('658343f70f74f81ffe8a1a8a'), ObjectId('658343f70f74f81ffe8a1a8b'), ObjectId('658343f70f74f81ffe8a1a8c'), ObjectId('658343f70f74f81ffe8a1a8d'), ObjectId('658343f70f74f81ffe8a1a8e'), ObjectId('658343f70f74f81ffe8a1a8f'), ObjectId('658343f70f74f81ffe8a1a90'), ObjectId('658343f70f74f81ffe8a1a91'), ObjectId('658343f70f74f81ffe8a1a92'), ObjectId('658343f70f74f81ffe8a1a93'), ObjectId('658343f70f74f81ffe8a1a94'), ObjectId('658343f70f74f81ffe8a1a95'), ObjectId('658343f70f74f81ffe8a1a96'), ObjectId('658343f70f74f81ffe8a1a97'), ObjectId('658343f70f74f81ffe8a1a98'), ObjectId('658343f70f74f81ffe8a1a99'), ObjectId('658343f70f74f81ffe8a1a9a'), ObjectId('658343f70f74f81ffe8a1a9b'), ObjectId('658343f70f74f81ffe8a1a9c'), ObjectId('658343f70f74f81ffe8a1a9d'), ObjectId('658343f70f74f81ffe8a1a9e'), ObjectId('658343f70f74f81ffe8a1a9f'), ObjectId('658343f70f74f81ffe8a1aa0'), ObjectId('658343f70f74f81ffe8a1aa1'), ObjectId('658343f70f74f81ffe8a1aa2'), ObjectId('658343f70f74f81ffe8a1aa3'), ObjectId('658343f70f74f81ffe8a1aa4'), ObjectId('658343f70f74f81ffe8a1aa5'), ObjectId('658343f70f74f81ffe8a1aa6'), ObjectId('658343f70f74f81ffe8a1aa7'), ObjectId('658343f70f74f81ffe8a1aa8'), ObjectId('658343f70f74f81ffe8a1aa9'), ObjectId('658343f70f74f81ffe8a1aaa'), ObjectId('658343f70f74f81ffe8a1aab'), ObjectId('658343f70f74f81ffe8a1aac'), ObjectId('658343f70f74f81ffe8a1aad'), ObjectId('658343f70f74f81ffe8a1aae'), ObjectId('658343f70f74f81ffe8a1aaf'), ObjectId('658343f70f74f81ffe8a1ab0'), ObjectId('658343f70f74f81ffe8a1ab1'), ObjectId('658343f70f74f81ffe8a1ab2'), ObjectId('658343f70f74f81ffe8a1ab3'), ObjectId('658343f70f74f81ffe8a1ab4'), ObjectId('658343f70f74f81ffe8a1ab5'), ObjectId('658343f70f74f81ffe8a1ab6'), ObjectId('658343f70f74f81ffe8a1ab7'), ObjectId('658343f70f74f81ffe8a1ab8'), ObjectId('658343f70f74f81ffe8a1ab9'), ObjectId('658343f70f74f81ffe8a1aba'), ObjectId('658343f70f74f81ffe8a1abb'), ObjectId('658343f70f74f81ffe8a1abc'), ObjectId('658343f70f74f81ffe8a1abd'), ObjectId('658343f70f74f81ffe8a1abe'), ObjectId('658343f70f74f81ffe8a1abf'), ObjectId('658343f70f74f81ffe8a1ac0'), ObjectId('658343f70f74f81ffe8a1ac1'), ObjectId('658343f70f74f81ffe8a1ac2'), ObjectId('658343f70f74f81ffe8a1ac3'), ObjectId('658343f70f74f81ffe8a1ac4'), ObjectId('658343f70f74f81ffe8a1ac5'), ObjectId('658343f70f74f81ffe8a1ac6'), ObjectId('658343f70f74f81ffe8a1ac7'), ObjectId('658343f70f74f81ffe8a1ac8'), ObjectId('658343f70f74f81ffe8a1ac9'), ObjectId('658343f70f74f81ffe8a1aca'), ObjectId('658343f70f74f81ffe8a1acb'), ObjectId('658343f70f74f81ffe8a1acc'), ObjectId('658343f70f74f81ffe8a1acd'), ObjectId('658343f70f74f81ffe8a1ace'), ObjectId('658343f70f74f81ffe8a1acf'), ObjectId('658343f70f74f81ffe8a1ad0'), ObjectId('658343f70f74f81ffe8a1ad1'), ObjectId('658343f70f74f81ffe8a1ad2'), ObjectId('658343f70f74f81ffe8a1ad3'), ObjectId('658343f70f74f81ffe8a1ad4'), ObjectId('658343f70f74f81ffe8a1ad5'), ObjectId('658343f70f74f81ffe8a1ad6'), ObjectId('658343f70f74f81ffe8a1ad7'), ObjectId('658343f70f74f81ffe8a1ad8'), ObjectId('658343f70f74f81ffe8a1ad9'), ObjectId('658343f70f74f81ffe8a1ada'), ObjectId('658343f70f74f81ffe8a1adb'), ObjectId('658343f70f74f81ffe8a1adc'), ObjectId('658343f70f74f81ffe8a1add'), ObjectId('658343f70f74f81ffe8a1ade'), ObjectId('658343f70f74f81ffe8a1adf'), ObjectId('658343f70f74f81ffe8a1ae0'), ObjectId('658343f70f74f81ffe8a1ae1'), ObjectId('658343f70f74f81ffe8a1ae2'), ObjectId('658343f70f74f81ffe8a1ae3'), ObjectId('658343f70f74f81ffe8a1ae4'), ObjectId('658343f70f74f81ffe8a1ae5'), ObjectId('658343f70f74f81ffe8a1ae6'), ObjectId('658343f70f74f81ffe8a1ae7'), ObjectId('658343f70f74f81ffe8a1ae8'), ObjectId('658343f70f74f81ffe8a1ae9'), ObjectId('658343f70f74f81ffe8a1aea'), ObjectId('658343f70f74f81ffe8a1aeb'), ObjectId('658343f70f74f81ffe8a1aec'), ObjectId('658343f70f74f81ffe8a1aed'), ObjectId('658343f70f74f81ffe8a1aee'), ObjectId('658343f70f74f81ffe8a1aef'), ObjectId('658343f70f74f81ffe8a1af0'), ObjectId('658343f70f74f81ffe8a1af1'), ObjectId('658343f70f74f81ffe8a1af2'), ObjectId('658343f70f74f81ffe8a1af3'), ObjectId('658343f70f74f81ffe8a1af4'), ObjectId('658343f70f74f81ffe8a1af5'), ObjectId('658343f70f74f81ffe8a1af6'), ObjectId('658343f70f74f81ffe8a1af7'), ObjectId('658343f70f74f81ffe8a1af8'), ObjectId('658343f70f74f81ffe8a1af9'), ObjectId('658343f70f74f81ffe8a1afa'), ObjectId('658343f70f74f81ffe8a1afb'), ObjectId('658343f70f74f81ffe8a1afc'), ObjectId('658343f70f74f81ffe8a1afd'), ObjectId('658343f70f74f81ffe8a1afe'), ObjectId('658343f70f74f81ffe8a1aff'), ObjectId('658343f70f74f81ffe8a1b00'), ObjectId('658343f70f74f81ffe8a1b01'), ObjectId('658343f70f74f81ffe8a1b02'), ObjectId('658343f70f74f81ffe8a1b03'), ObjectId('658343f70f74f81ffe8a1b04'), ObjectId('658343f70f74f81ffe8a1b05'), ObjectId('658343f70f74f81ffe8a1b06'), ObjectId('658343f70f74f81ffe8a1b07'), ObjectId('658343f70f74f81ffe8a1b08'), ObjectId('658343f70f74f81ffe8a1b09'), ObjectId('658343f70f74f81ffe8a1b0a'), ObjectId('658343f70f74f81ffe8a1b0b'), ObjectId('658343f70f74f81ffe8a1b0c'), ObjectId('658343f70f74f81ffe8a1b0d'), ObjectId('658343f70f74f81ffe8a1b0e'), ObjectId('658343f70f74f81ffe8a1b0f'), ObjectId('658343f70f74f81ffe8a1b10'), ObjectId('658343f70f74f81ffe8a1b11'), ObjectId('658343f70f74f81ffe8a1b12'), ObjectId('658343f70f74f81ffe8a1b13'), ObjectId('658343f70f74f81ffe8a1b14'), ObjectId('658343f70f74f81ffe8a1b15'), ObjectId('658343f70f74f81ffe8a1b16'), ObjectId('658343f70f74f81ffe8a1b17'), ObjectId('658343f70f74f81ffe8a1b18'), ObjectId('658343f70f74f81ffe8a1b19'), ObjectId('658343f70f74f81ffe8a1b1a'), ObjectId('658343f70f74f81ffe8a1b1b'), ObjectId('658343f70f74f81ffe8a1b1c'), ObjectId('658343f70f74f81ffe8a1b1d'), ObjectId('658343f70f74f81ffe8a1b1e'), ObjectId('658343f70f74f81ffe8a1b1f'), ObjectId('658343f70f74f81ffe8a1b20'), ObjectId('658343f70f74f81ffe8a1b21'), ObjectId('658343f70f74f81ffe8a1b22')], acknowledged=True)"
      ]
     },
     "execution_count": 95,
     "metadata": {},
     "output_type": "execute_result"
    }
   ],
   "source": [
    "# dogs_collection.delete_many({})\n",
    "# catcher_coll.delete_many({})\n",
    "# vet_coll.delete_many({})\n",
    "\n",
    "dogs_collection.insert_many(dogData)\n",
    "catcher_coll.insert_many(catcherData)\n",
    "vet_coll.insert_many(vetData)"
   ]
  },
  {
   "cell_type": "code",
   "execution_count": 96,
   "metadata": {},
   "outputs": [],
   "source": [
    "# Fetch all catcher IDs and vet IDs\n",
    "catcher_ids = [catcher['_id'] for catcher in catcher_coll.find({}, {'_id': 1})]\n",
    "vet_ids = [vet['_id'] for vet in vet_coll.find({}, {'_id': 1})]\n",
    "\n",
    "dogs_ids = [dog['_id'] for dog in dogs_collection.find({}, {'_id': 1})]\n",
    "\n",
    "for dog_id, catcher_id, vet_id in zip(dogs_ids, catcher_ids, vet_ids):\n",
    "    dogs_collection.update_one(\n",
    "        {\"_id\": dog_id},\n",
    "        {\"$set\": {\n",
    "            \"catcherDetails\": catcher_id,\n",
    "            \"vetDetails\": vet_id\n",
    "        }}\n",
    "    )"
   ]
  },
  {
   "cell_type": "code",
   "execution_count": 100,
   "metadata": {},
   "outputs": [
    {
     "data": {
      "text/plain": [
       "{'_id': ObjectId('658343f70f74f81ffe8a19b3'),\n",
       " 'dogWeight': 17.7,\n",
       " 'temperature': 102.0,\n",
       " 'SkinCondition': 'Normal ',\n",
       " 'BodyCondition': 'normal',\n",
       " 'surgeryDate': datetime.datetime(2023, 10, 7, 0, 0),\n",
       " 'procedure': 'OVARIES REMOVED',\n",
       " 'earNotched': 'Yes ',\n",
       " 'ARV': 'Given '}"
      ]
     },
     "execution_count": 100,
     "metadata": {},
     "output_type": "execute_result"
    }
   ],
   "source": [
    "# TESTING IF CORRESPONDS PROPERLY\n",
    "\n",
    "test_dog = dogs_collection.find_one({'caseNumber': 'JR/OCT/A/080'})\n",
    "test_catcher = catcher_coll.find_one({'_id': test_dog['catcherDetails']})\n",
    "test_vet = vet_coll.find_one({'_id': test_dog['vetDetails']})\n",
    "\n",
    "test_dog\n",
    "test_catcher\n",
    "test_vet"
   ]
  }
 ],
 "metadata": {
  "kernelspec": {
   "display_name": "Python 3",
   "language": "python",
   "name": "python3"
  },
  "language_info": {
   "codemirror_mode": {
    "name": "ipython",
    "version": 3
   },
   "file_extension": ".py",
   "mimetype": "text/x-python",
   "name": "python",
   "nbconvert_exporter": "python",
   "pygments_lexer": "ipython3",
   "version": "3.10.11"
  }
 },
 "nbformat": 4,
 "nbformat_minor": 2
}
